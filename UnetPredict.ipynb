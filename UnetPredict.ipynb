{
 "cells": [
  {
   "cell_type": "code",
   "execution_count": 1,
   "metadata": {},
   "outputs": [
    {
     "name": "stderr",
     "output_type": "stream",
     "text": [
      "/usr/local/anaconda3/lib/python3.6/site-packages/h5py/__init__.py:36: FutureWarning: Conversion of the second argument of issubdtype from `float` to `np.floating` is deprecated. In future, it will be treated as `np.float64 == np.dtype(float).type`.\n",
      "  from ._conv import register_converters as _register_converters\n",
      "Using TensorFlow backend.\n"
     ]
    }
   ],
   "source": [
    "import numpy as np\n",
    "import keras.backend.tensorflow_backend as KTF\n",
    "import tensorflow as tf\n",
    "import os\n",
    "\n",
    "os.environ[\"CUDA_VISIBLE_DEVICES\"] = \"5\"\n",
    "\n",
    "# set to test image directory\n",
    "TEST_DIR = '/data_service/source_datasets/cifar_images/images_test'"
   ]
  },
  {
   "cell_type": "code",
   "execution_count": 2,
   "metadata": {},
   "outputs": [
    {
     "name": "stderr",
     "output_type": "stream",
     "text": [
      "100%|██████████| 10000/10000 [00:00<00:00, 165617.15it/s]\n"
     ]
    }
   ],
   "source": [
    "from tqdm import tqdm\n",
    "# get test image paths\n",
    "filenames = []\n",
    "for f_name in tqdm(os.listdir(TEST_DIR)):\n",
    "    if os.path.splitext(f_name)[-1] == '.png':\n",
    "        filenames.append(os.path.join(TEST_DIR, f_name))\n"
   ]
  },
  {
   "cell_type": "code",
   "execution_count": 3,
   "metadata": {},
   "outputs": [],
   "source": [
    "from keras.preprocessing.image import img_to_array, load_img\n",
    "from skimage.color import lab2rgb, rgb2lab"
   ]
  },
  {
   "cell_type": "code",
   "execution_count": 5,
   "metadata": {},
   "outputs": [],
   "source": [
    "# gpu config\n",
    "config = tf.ConfigProto()\n",
    "config.gpu_options.allow_growth = True\n",
    "sess = tf.Session(config=config)\n",
    "\n",
    "KTF.set_session(sess)"
   ]
  },
  {
   "cell_type": "code",
   "execution_count": 6,
   "metadata": {},
   "outputs": [],
   "source": [
    "from models.UnetColorizer import UnetColorizer, unet\n",
    "\n",
    "# initialize colorizer and load model\n",
    "colorizer = UnetColorizer(model=unet(1, 2))\n",
    "colorizer.load('unet_20.model')"
   ]
  },
  {
   "cell_type": "code",
   "execution_count": 7,
   "metadata": {},
   "outputs": [],
   "source": [
    "def get_gray_rgb(x):\n",
    "    batch_size = x.shape[0]\n",
    "    ret = []\n",
    "    for batch_cnt in range(batch_size):\n",
    "        l_channel = np.zeros((32, 32, 3))\n",
    "        l_channel[:,:,0] = x[batch_cnt, :, :, 0]\n",
    "        \n",
    "        # reverted from norm\n",
    "        l_channel = (l_channel * [100, 255, 255]) - [0, 128, 128]\n",
    "        \n",
    "        # reset the last two channel\n",
    "        l_channel[:, :, 1:] = 0\n",
    "        l_channel = lab2rgb(l_channel)\n",
    "\n",
    "        l_channel = l_channel * [255, 255, 255]\n",
    "        l_channel = l_channel.astype(np.uint8)\n",
    "        \n",
    "        ret.append(l_channel)\n",
    "    return ret\n",
    "\n",
    "def get_rgb(x, y):\n",
    "    assert x.shape[0] == y.shape[0]\n",
    "    batch_size = x.shape[0]\n",
    "    ret = []\n",
    "    \n",
    "    for batch_cnt in range(batch_size):\n",
    "\n",
    "        predicted_img = np.zeros((32, 32, 3))\n",
    "        predicted_img[:,:,0] = x[batch_cnt, :, :, 0]  # light channel stay same\n",
    "        predicted_img[:,:,1:] = y[batch_cnt]  # fill the last channels with predicted values\n",
    "\n",
    "        predicted_img = (predicted_img * [100, 255, 255]) - [0, 128, 128]   # reverted from norm\n",
    "\n",
    "        rgb_predicted = lab2rgb(predicted_img)  # convert lab to rgb\n",
    "        rgb_predicted = rgb_predicted * [255, 255, 255]\n",
    "        rgb_predicted = rgb_predicted.astype(np.uint8)\n",
    "        ret.append(rgb_predicted)\n",
    "    return ret"
   ]
  },
  {
   "cell_type": "code",
   "execution_count": 8,
   "metadata": {},
   "outputs": [],
   "source": [
    "from PIL import Image\n",
    "\n",
    "def save_result(save_dir, batch_i, gray_images, fake_images, original_images):\n",
    "    assert len(gray_images) == len(fake_images) == len(original_images)\n",
    "\n",
    "    batch_size = len(rgb_predict)\n",
    "    \n",
    "    # init image with size(width, height)\n",
    "    generated_image = Image.new('RGB', (32*3, 32*batch_size))\n",
    "\n",
    "    for batch_cnt in range(batch_size):\n",
    "        gray = Image.fromarray(gray_images[batch_cnt])\n",
    "        fake = Image.fromarray(fake_images[batch_cnt])\n",
    "        original = Image.fromarray(original_images[batch_cnt])\n",
    "        \n",
    "        generated_image.paste(gray, (0, batch_cnt*32, 32, (batch_cnt+1)*32))\n",
    "        generated_image.paste(fake, (32, batch_cnt*32, 32*2, (batch_cnt+1)*32))\n",
    "        generated_image.paste(original, (32*2, batch_cnt*32, 32*3, (batch_cnt+1)*32))\n",
    "    \n",
    "    generated_image.save(save_dir + \"/Unet_%d.jpg\" % batch_i, quality=95)\n"
   ]
  },
  {
   "cell_type": "code",
   "execution_count": 12,
   "metadata": {},
   "outputs": [
    {
     "name": "stderr",
     "output_type": "stream",
     "text": [
      "100%|██████████| 10000/10000 [00:00<00:00, 202349.67it/s]\n",
      "  0%|          | 0/625 [00:00<?, ?it/s]\n"
     ]
    },
    {
     "ename": "AttributeError",
     "evalue": "type object 'Image' has no attribute 'new'",
     "output_type": "error",
     "traceback": [
      "\u001b[0;31m---------------------------------------------------------------------------\u001b[0m",
      "\u001b[0;31mAttributeError\u001b[0m                            Traceback (most recent call last)",
      "\u001b[0;32m<ipython-input-12-ce15e49e1d12>\u001b[0m in \u001b[0;36m<module>\u001b[0;34m()\u001b[0m\n\u001b[1;32m     12\u001b[0m     \u001b[0mrgb_original\u001b[0m \u001b[0;34m=\u001b[0m \u001b[0mget_rgb\u001b[0m\u001b[0;34m(\u001b[0m\u001b[0mx\u001b[0m\u001b[0;34m,\u001b[0m \u001b[0my\u001b[0m\u001b[0;34m)\u001b[0m\u001b[0;34m\u001b[0m\u001b[0m\n\u001b[1;32m     13\u001b[0m \u001b[0;34m\u001b[0m\u001b[0m\n\u001b[0;32m---> 14\u001b[0;31m     \u001b[0msave_result\u001b[0m\u001b[0;34m(\u001b[0m\u001b[0mSAVED_DIR\u001b[0m\u001b[0;34m,\u001b[0m \u001b[0mbatch_cnt\u001b[0m\u001b[0;34m,\u001b[0m \u001b[0mrgb_gray\u001b[0m\u001b[0;34m,\u001b[0m \u001b[0mrgb_predict\u001b[0m\u001b[0;34m,\u001b[0m \u001b[0mrgb_original\u001b[0m\u001b[0;34m)\u001b[0m\u001b[0;34m\u001b[0m\u001b[0m\n\u001b[0m\u001b[1;32m     15\u001b[0m \u001b[0;34m\u001b[0m\u001b[0m\n",
      "\u001b[0;32m<ipython-input-8-e3b9f846af7d>\u001b[0m in \u001b[0;36msave_result\u001b[0;34m(save_dir, batch_i, gray_images, fake_images, original_images)\u001b[0m\n\u001b[1;32m      5\u001b[0m \u001b[0;34m\u001b[0m\u001b[0m\n\u001b[1;32m      6\u001b[0m     \u001b[0;31m# init image with size(width, height)\u001b[0m\u001b[0;34m\u001b[0m\u001b[0;34m\u001b[0m\u001b[0m\n\u001b[0;32m----> 7\u001b[0;31m     \u001b[0mgenerated_image\u001b[0m \u001b[0;34m=\u001b[0m \u001b[0mImage\u001b[0m\u001b[0;34m.\u001b[0m\u001b[0mnew\u001b[0m\u001b[0;34m(\u001b[0m\u001b[0;34m'RGB'\u001b[0m\u001b[0;34m,\u001b[0m \u001b[0;34m(\u001b[0m\u001b[0;36m32\u001b[0m\u001b[0;34m*\u001b[0m\u001b[0;36m3\u001b[0m\u001b[0;34m,\u001b[0m \u001b[0;36m32\u001b[0m\u001b[0;34m*\u001b[0m\u001b[0mbatch_size\u001b[0m\u001b[0;34m)\u001b[0m\u001b[0;34m)\u001b[0m\u001b[0;34m\u001b[0m\u001b[0m\n\u001b[0m\u001b[1;32m      8\u001b[0m \u001b[0;34m\u001b[0m\u001b[0m\n\u001b[1;32m      9\u001b[0m     \u001b[0;32mfor\u001b[0m \u001b[0mbatch_cnt\u001b[0m \u001b[0;32min\u001b[0m \u001b[0mrange\u001b[0m\u001b[0;34m(\u001b[0m\u001b[0mbatch_size\u001b[0m\u001b[0;34m)\u001b[0m\u001b[0;34m:\u001b[0m\u001b[0;34m\u001b[0m\u001b[0m\n",
      "\u001b[0;31mAttributeError\u001b[0m: type object 'Image' has no attribute 'new'"
     ]
    }
   ],
   "source": [
    "from Dataset import CifarGenerator\n",
    "\n",
    "batch_size = 16  # test in batches\n",
    "data_generator = CifarGenerator(img_dir=TEST_DIR, batch_size=batch_size, color_space='LAB')\n",
    "\n",
    "SAVED_DIR = './UnetRes'\n",
    "for batch_cnt, (x, y) in enumerate(tqdm(data_generator)):\n",
    "    fake_y = colorizer.predict(x)\n",
    "    \n",
    "    rgb_gray = get_gray_rgb(x)\n",
    "    rgb_predict = get_rgb(x, fake_y)\n",
    "    rgb_original = get_rgb(x, y)\n",
    "    \n",
    "    save_result(SAVED_DIR, batch_cnt, rgb_gray, rgb_predict, rgb_original)\n",
    "    "
   ]
  },
  {
   "cell_type": "code",
   "execution_count": 17,
   "metadata": {},
   "outputs": [
    {
     "data": {
      "text/plain": [
       "Text(0.5,1,'ground truth image')"
      ]
     },
     "execution_count": 17,
     "metadata": {},
     "output_type": "execute_result"
    },
    {
     "data": {
      "image/png": "[encoded data removed]",
      "text/plain": [
       "<Figure size 504x144 with 2 Axes>"
      ]
     },
     "metadata": {},
     "output_type": "display_data"
    }
   ],
   "source": [
    "# import matplotlib.pyplot as plt\n",
    "# fig = plt.figure(figsize=(7, 2))\n",
    "\n",
    "# ax = fig.add_subplot(1, 2, 1)\n",
    "# ax.imshow(rgb); ax.axis(\"off\")\n",
    "# ax.set_title(\"gan predicted image\")\n",
    "\n",
    "# img = img_to_array(load_img(f_name, target_size=(32, 32))) / 255\n",
    "# ax = fig.add_subplot(1, 2, 2)\n",
    "# ax.imshow(img); ax.axis(\"off\")\n",
    "# ax.set_title(\"ground truth image\")"
   ]
  }
 ],
 "metadata": {
  "kernelspec": {
   "display_name": "Python 3",
   "language": "python",
   "name": "python3"
  },
  "language_info": {
   "codemirror_mode": {
    "name": "ipython",
    "version": 3
   },
   "file_extension": ".py",
   "mimetype": "text/x-python",
   "name": "python",
   "nbconvert_exporter": "python",
   "pygments_lexer": "ipython3",
   "version": "3.6.5"
  }
 },
 "nbformat": 4,
 "nbformat_minor": 2
}
