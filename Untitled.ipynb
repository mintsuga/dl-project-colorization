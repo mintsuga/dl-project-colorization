{
 "cells": [
  {
   "cell_type": "code",
   "execution_count": 97,
   "metadata": {},
   "outputs": [],
   "source": [
    "import scipy\n",
    "import numpy as np\n",
    "import matplotlib.pyplot as plt\n",
    "import os\n",
    "import skimage\n",
    "from skimage.color import rgb2gray\n",
    "import keras\n",
    "from tqdm import tqdm"
   ]
  },
  {
   "cell_type": "code",
   "execution_count": 98,
   "metadata": {},
   "outputs": [],
   "source": [
    "class CifarGenerator(keras.utils.Sequence):\n",
    "    \"\"\"\n",
    "    a generator of Cifar dataset\n",
    "    use 'for' iteration to generate image in batch-manner\n",
    "    \"\"\"\n",
    "    def __init__(self, img_dir, batch_size, is_training=True, shuffle=True):\n",
    "        self.img_dir = img_dir\n",
    "        self.batch_size = batch_size\n",
    "        self.shuffle = shuffle\n",
    "        self._is_training = is_training\n",
    "\n",
    "        self._img_names = []\n",
    "\n",
    "        self.indexes = np.arange(len(self.img_names))\n",
    "\n",
    "        self.w = 32\n",
    "        self.h = 32\n",
    "\n",
    "    def __len__(self):\n",
    "        # how many batches \n",
    "        return int(np.ceil(len(self.indexes) / float(self.batch_size)))\n",
    "\n",
    "    def on_epoch_end(self):\n",
    "        if self.is_training and self.shuffle:\n",
    "            np.random.shuffle(self.indexes)\n",
    "\n",
    "    def __getitem__(self, index):\n",
    "        upper_bound = min(self.size, (index + 1) * self.batch_size)\n",
    "        indexes = self.indexes[index * self.batch_size:upper_bound]\n",
    "\n",
    "        images_A = []\n",
    "        images_B = []\n",
    "        images_O = []\n",
    "        \n",
    "        for index in indexes:\n",
    "            f_name = self._img_names[index]\n",
    "            image_A = scipy.misc.imread(f_name, mode='RGB').astype(np.float)\n",
    "            image_B = rgb2gray(image_A)\n",
    "        \n",
    "            image_A = skimage.transform.resize(image_A, (self.h, self.w))\n",
    "            image_B = skimage.transform.resize(image_B, (self.h, self.w))\n",
    "            \n",
    "            image_B = np.stack((image_B,)*3, axis=-1)\n",
    "\n",
    "            images_A.append(image_A)\n",
    "            images_B.append(image_B)\n",
    "        \n",
    "        # normalization is to bring the values in range [-1.0,1.0]\n",
    "        images_A = np.array(images_A)/127.5 - 1.\n",
    "        images_B = np.array(images_B)/127.5 - 1.\n",
    "        \n",
    "        \n",
    "        return images_A, images_B\n",
    "\n",
    "    def _load(self):\n",
    "        for f_name in tqdm(os.listdir(self.img_dir)):\n",
    "            if os.path.splitext(f_name)[-1] == '.png':\n",
    "                self._img_names.append(os.path.join(self.img_dir, f_name))\n",
    "\n",
    "    @property\n",
    "    def img_names(self):\n",
    "        if len(self._img_names) == 0:\n",
    "            self._load()\n",
    "        return self._img_names\n",
    "\n",
    "    @property\n",
    "    def size(self):\n",
    "        return len(self._img_names)\n",
    "\n",
    "    @property\n",
    "    def is_training(self):\n",
    "        return self._is_training"
   ]
  },
  {
   "cell_type": "code",
   "execution_count": 99,
   "metadata": {},
   "outputs": [
    {
     "name": "stderr",
     "output_type": "stream",
     "text": [
      "100%|██████████| 201/201 [00:00<00:00, 79706.45it/s]\n"
     ]
    }
   ],
   "source": [
    "generator = CifarGenerator(img_dir='./data/train', batch_size=16, is_training=False)"
   ]
  },
  {
   "cell_type": "code",
   "execution_count": 100,
   "metadata": {},
   "outputs": [],
   "source": [
    "import matplotlib.pyplot as plt\n",
    "\n",
    "def show_batch(generator):\n",
    "    x = None\n",
    "    y = None\n",
    "    for images_A, images_B in generator:\n",
    "        x = images_A[0]\n",
    "        y = images_B[0]\n",
    "        break\n",
    "\n",
    "    fig = plt.figure(figsize=(7, 2))\n",
    "\n",
    "    ax = fig.add_subplot(1, 2, 1)\n",
    "    ax.imshow(x); ax.axis(\"off\")\n",
    "    ax.set_title(\"image a\")\n",
    "\n",
    "    ax = fig.add_subplot(1, 2, 2)\n",
    "    ax.imshow(y); ax.axis(\"off\")\n",
    "    ax.set_title(\"image b\")\n",
    "\n"
   ]
  },
  {
   "cell_type": "code",
   "execution_count": 102,
   "metadata": {},
   "outputs": [
    {
     "name": "stderr",
     "output_type": "stream",
     "text": [
      "/usr/local/lib/python3.7/site-packages/ipykernel_launcher.py:37: DeprecationWarning: `imread` is deprecated!\n",
      "`imread` is deprecated in SciPy 1.0.0, and will be removed in 1.2.0.\n",
      "Use ``imageio.imread`` instead.\n",
      "Clipping input data to the valid range for imshow with RGB data ([0..1] for floats or [0..255] for integers).\n",
      "Clipping input data to the valid range for imshow with RGB data ([0..1] for floats or [0..255] for integers).\n"
     ]
    },
    {
     "data": {
      "image/png": "[encoded data removed]",
      "text/plain": [
       "<Figure size 504x144 with 2 Axes>"
      ]
     },
     "metadata": {
      "needs_background": "light"
     },
     "output_type": "display_data"
    }
   ],
   "source": [
    "x = None\n",
    "y = None\n",
    "for images_A, images_B in generator:\n",
    "    x = images_A[0]\n",
    "    y = images_B[0]\n",
    "    break\n",
    "\n",
    "show_batch(generator)"
   ]
  },
  {
   "cell_type": "code",
   "execution_count": null,
   "metadata": {},
   "outputs": [],
   "source": []
  }
 ],
 "metadata": {
  "kernelspec": {
   "display_name": "Python 3",
   "language": "python",
   "name": "python3"
  },
  "language_info": {
   "codemirror_mode": {
    "name": "ipython",
    "version": 3
   },
   "file_extension": ".py",
   "mimetype": "text/x-python",
   "name": "python",
   "nbconvert_exporter": "python",
   "pygments_lexer": "ipython3",
   "version": "3.7.3"
  }
 },
 "nbformat": 4,
 "nbformat_minor": 2
}
