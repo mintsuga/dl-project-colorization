{
 "cells": [
  {
   "cell_type": "code",
   "execution_count": null,
   "metadata": {},
   "outputs": [],
   "source": [
    "import numpy as np\n",
    "import keras.backend.tensorflow_backend as KTF\n",
    "import tensorflow as tf\n",
    "import os\n",
    "\n",
    "os.environ[\"CUDA_VISIBLE_DEVICES\"] = \"5\"\n",
    "\n",
    "# set to test image directory\n",
    "TEST_DIR = '/data_service/source_datasets/cifar_images/images_test'"
   ]
  },
  {
   "cell_type": "code",
   "execution_count": null,
   "metadata": {},
   "outputs": [],
   "source": [
    "from tqdm import tqdm\n",
    "# get test image paths\n",
    "filenames = []\n",
    "for f_name in tqdm(os.listdir(TEST_DIR)):\n",
    "    if os.path.splitext(f_name)[-1] == '.png':\n",
    "        filenames.append(os.path.join(TEST_DIR, f_name))\n"
   ]
  },
  {
   "cell_type": "code",
   "execution_count": null,
   "metadata": {},
   "outputs": [],
   "source": [
    "from keras.preprocessing.image import img_to_array, load_img\n",
    "from skimage.color import lab2rgb, rgb2lab"
   ]
  },
  {
   "cell_type": "code",
   "execution_count": null,
   "metadata": {},
   "outputs": [],
   "source": [
    "from IPython.display import display, Image\n",
    "from matplotlib.pyplot import imshow\n",
    "\n",
    "# l_channel values = gray image\n",
    "def get_lab_channel(x, y):\n",
    "    l_channel = np.zeros((32, 32, 3))\n",
    "    l_channel[:,:,0] = x[:,:,0]\n",
    "    l_channel = lab2rgb(l_channel)\n",
    "\n",
    "    a_channel = np.zeros((32, 32, 3))\n",
    "    a_channel[:,:,0] = 50\n",
    "    a_channel[:,:,1] = y[:,:,0]\n",
    "    a_channel = lab2rgb(a_channel)\n",
    "    \n",
    "    b_channel = np.zeros((32, 32, 3))\n",
    "    b_channel[:,:,0] = 50\n",
    "    b_channel[:,:,2] = y[:,:,1]\n",
    "    b_channel = lab2rgb(b_channel)\n",
    "    \n",
    "    return l_channel, a_channel, b_channel\n"
   ]
  },
  {
   "cell_type": "code",
   "execution_count": null,
   "metadata": {},
   "outputs": [],
   "source": [
    "# gpu config\n",
    "config = tf.ConfigProto()\n",
    "config.gpu_options.allow_growth = True\n",
    "sess = tf.Session(config=config)\n",
    "\n",
    "KTF.set_session(sess)"
   ]
  },
  {
   "cell_type": "code",
   "execution_count": null,
   "metadata": {},
   "outputs": [],
   "source": [
    "from unet import unet\n",
    "from Colorizer import Colorizer"
   ]
  },
  {
   "cell_type": "code",
   "execution_count": null,
   "metadata": {},
   "outputs": [],
   "source": [
    "colorizer = Colorizer(model=unet())\n",
    "colorizer.load('unet.model')"
   ]
  },
  {
   "cell_type": "code",
   "execution_count": null,
   "metadata": {},
   "outputs": [],
   "source": [
    "f_name = filenames[1]\n",
    "img = img_to_array(load_img(f_name, target_size=(32, 32))) / 255\n",
    "lab_image = rgb2lab(img)\n",
    "\n",
    "# add norm?\n",
    "lab_image_norm = (lab_image + [0, 128, 128]) / [100, 255, 255]\n",
    "\n",
    "x = lab_image_norm[:, :, 0]\n",
    "x = x.reshape(x.shape[0], x.shape[1], 1)\n",
    "y = lab_image_norm[:, :, 1:]\n",
    "\n",
    "# add batch_size shape\n",
    "x = x.reshape(1, x.shape[0], x.shape[1], x.shape[2])\n",
    "predicted = colorizer.predict(x)"
   ]
  },
  {
   "cell_type": "code",
   "execution_count": null,
   "metadata": {},
   "outputs": [],
   "source": [
    "# predicted.shape (1, 32, 32, 2)\n",
    "cur = np.zeros((32, 32, 3))\n",
    "cur[:,:,0] = x[0][:,:,0]\n",
    "cur[:,:,1:] = predicted[0]"
   ]
  },
  {
   "cell_type": "code",
   "execution_count": null,
   "metadata": {},
   "outputs": [],
   "source": [
    "cur = (cur * [100, 255, 255]) - [0, 128, 128]\n",
    "rgb_predicted = lab2rgb(cur)\n"
   ]
  },
  {
   "cell_type": "code",
   "execution_count": null,
   "metadata": {},
   "outputs": [],
   "source": [
    "import matplotlib.pyplot as plt\n",
    "fig = plt.figure(figsize=(7, 2))\n",
    "\n",
    "ax = fig.add_subplot(1, 2, 1)\n",
    "ax.imshow(rgb_predicted); ax.axis(\"off\")\n",
    "ax.set_title(\"predicted image\")\n",
    "\n",
    "ax = fig.add_subplot(1, 2, 2)\n",
    "ax.imshow(img); ax.axis(\"off\")\n",
    "ax.set_title(\"ground truth image\")"
   ]
  }
 ],
 "metadata": {
  "kernelspec": {
   "display_name": "Python 3",
   "language": "python",
   "name": "python3"
  },
  "language_info": {
   "codemirror_mode": {
    "name": "ipython",
    "version": 3
   },
   "file_extension": ".py",
   "mimetype": "text/x-python",
   "name": "python",
   "nbconvert_exporter": "python",
   "pygments_lexer": "ipython3",
   "version": "3.7.3"
  }
 },
 "nbformat": 4,
 "nbformat_minor": 2
}
